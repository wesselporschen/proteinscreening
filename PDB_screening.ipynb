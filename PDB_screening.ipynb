{
 "cells": [
  {
   "cell_type": "code",
   "execution_count": 71,
   "metadata": {},
   "outputs": [],
   "source": [
    "# conda environment: \"fepenv\", python version=3.12.7\n",
    "\n",
    "import pandas as pd\n",
    "import sys\n",
    "import biotite.database.rcsb as rcsb\n",
    "from Bio.PDB.MMCIF2Dict import MMCIF2Dict\n",
    "import urllib.request\n",
    "import pypdb\n",
    "import os\n",
    "import tqdm\n",
    "import warnings"
   ]
  },
  {
   "cell_type": "markdown",
   "metadata": {},
   "source": [
    "# Querying PDB based on methodological/protein requirements"
   ]
  },
  {
   "cell_type": "code",
   "execution_count": 67,
   "metadata": {},
   "outputs": [],
   "source": [
    "# Methodology\n",
    "experimental_method = \"X-ray\"\n",
    "max_resolution = 2.0\n",
    "deposition_date = \"2020-01-01T00:00:00Z\"\n",
    "\n",
    "# Protein characteristics\n",
    "membrane_annotations = ['PDBTM', 'MemProtMD'] # 'PDBTM', 'OPM', 'MemProtMD', 'mpstruc'\n",
    "organism = \"Homo sapiens\"\n",
    "\n",
    "# Ligand characteristics\n",
    "min_ligand_molecular_weight = 100\n",
    "ligand_binding_type = \"HAS_NO_COVALENT_LINKAGE\""
   ]
  },
  {
   "cell_type": "code",
   "execution_count": 68,
   "metadata": {},
   "outputs": [],
   "source": [
    "query_by_experimental_method = rcsb.FieldQuery(\n",
    "    \"rcsb_entry_info.experimental_method\",\n",
    "    exact_match=experimental_method\n",
    ")\n",
    "\n",
    "query_by_resolution = rcsb.FieldQuery(\n",
    "    \"rcsb_entry_info.resolution_combined\",\n",
    "    less_or_equal=max_resolution\n",
    ")\n",
    "\n",
    "# query_by_deposition_date = rcsb.FieldQuery(\n",
    "#     \"rcsb_accession_info.deposit_date\", \n",
    "#     greater=deposition_date\n",
    "# )\n",
    "\n",
    "query_by_ligand_mw = rcsb.FieldQuery( #broken?\n",
    "    \"chem_comp.formula_weight\",\n",
    "    molecular_definition=True,\n",
    "    greater=min_ligand_molecular_weight\n",
    ")\n",
    "\n",
    "query_by_membrane_annotation = rcsb.FieldQuery(\n",
    "    \"rcsb_polymer_entity_annotation.type\",\n",
    "    is_in=membrane_annotations\n",
    ")\n",
    "\n",
    "query_by_organism = rcsb.FieldQuery(\n",
    "    \"rcsb_entity_source_organism.scientific_name\",\n",
    "    exact_match=organism\n",
    ")\n",
    "\n",
    "query_by_ligand_binding_type = rcsb.FieldQuery(\n",
    "    \"rcsb_nonpolymer_instance_annotation.type\",\n",
    "    exact_match=ligand_binding_type\n",
    ")\n",
    "\n"
   ]
  },
  {
   "cell_type": "code",
   "execution_count": 69,
   "metadata": {},
   "outputs": [
    {
     "name": "stdout",
     "output_type": "stream",
     "text": [
      "64 matches:\n",
      "['1OJA', '2BK5', '2C67', '2UUI', '2V60', '2V61', '2XCG', '2XFN', '2XFP', '3D9S', '3GD8', '3PCV', '3PO7', '4A79', '4A7A', '4AL0', '4AL1', '4EIY', '4N6H', '4WOL', '4YK5', '4YL0', '4YL1', '4YL3', '4ZW9', '5BQG', '5BQH', '5BQI', '5IU4', '5IU7', '5K0I', '5K2C', '5K2D', '5MZJ', '5NM2', '5NM4', '5OLG', '5OLV', '5OLZ', '5OM4', '5SYT', '5T36', '5T37', '5TL9', '5WIU', '5WQC', '6FVZ', '6FW0', '6FWC', '6GT3', '6I6H', '6IGK', '6LPJ', '6LPK', '6LPL', '6PS7', '6QZI', '6RKP', '6VL4', '6WQA', '6WVH', '6YT2', '6ZDR', '8PYV']\n"
     ]
    }
   ],
   "source": [
    "query = rcsb.CompositeQuery(\n",
    "    [\n",
    "        query_by_resolution,\n",
    "        query_by_experimental_method,\n",
    "        query_by_membrane_annotation,\n",
    "        query_by_organism,\n",
    "        query_by_ligand_mw,\n",
    "        query_by_ligand_binding_type,\n",
    "    ],\n",
    "    \"and\",\n",
    ")\n",
    "\n",
    "pdb_ids = rcsb.search(query)\n",
    "print(f\"{len(pdb_ids)} matches:\")\n",
    "print(pdb_ids)"
   ]
  },
  {
   "cell_type": "markdown",
   "metadata": {},
   "source": [
    "# Downloading `.pdb` and `.cif` file for selected PDB entries"
   ]
  },
  {
   "cell_type": "code",
   "execution_count": null,
   "metadata": {},
   "outputs": [],
   "source": [
    "def download_pdb_cif_from_pdbid(pdb_id):\n",
    "    folder_name = \"proteins\"\n",
    "    file_path = os.path.join(folder_name, pdb_id)\n",
    "    os.makedirs(folder_name, exist_ok=True)\n",
    "\n",
    "    warnings.simplefilter(\"ignore\") # ignore deprecation warning\n",
    "    cifstring = pypdb.get_pdb_file(pdb_id, filetype='cif', compression=False)\n",
    "    with open((file_path+\".cif\"), \"w\") as file:\n",
    "        file.write(cifstring)\n",
    "\n",
    "    warnings.simplefilter(\"ignore\") # ignore deprecationwarning\n",
    "    pdbstring = pypdb.get_pdb_file(pdb_id, filetype=\"pdb\", compression=False)\n",
    "    with open((file_path+\".pdb\"), \"w\") as file:\n",
    "        file.write(pdbstring)"
   ]
  },
  {
   "cell_type": "code",
   "execution_count": null,
   "metadata": {},
   "outputs": [],
   "source": [
    "for pdb_id in tqdm.tqdm(pdb_ids):\n",
    "    download_pdb_cif_from_pdbid(pdb_id)"
   ]
  },
  {
   "cell_type": "code",
   "execution_count": 82,
   "metadata": {},
   "outputs": [
    {
     "name": "stdout",
     "output_type": "stream",
     "text": [
      "_refine.pdbx_overall_ESU_R_Free ['0.094']\n",
      "_refine.pdbx_overall_ESU_R_Free ['0.112']\n",
      "_refine.pdbx_overall_ESU_R_Free ['0.094']\n",
      "_refine.pdbx_overall_ESU_R_Free ['0.120']\n",
      "_refine.pdbx_overall_ESU_R_Free ['0.146']\n",
      "_refine.pdbx_overall_ESU_R_Free ['0.089']\n",
      "_refine.pdbx_overall_ESU_R_Free ['0.109']\n",
      "_refine.pdbx_overall_ESU_R_Free ['0.073']\n",
      "_refine.pdbx_overall_ESU_R_Free ['?']\n",
      "_refine.pdbx_overall_ESU_R_Free ['?']\n",
      "_refine.pdbx_overall_ESU_R_Free ['0.083']\n",
      "_refine.pdbx_overall_ESU_R_Free ['0.084']\n",
      "_refine.pdbx_overall_ESU_R_Free ['0.108']\n",
      "_refine.pdbx_overall_ESU_R_Free ['0.117']\n",
      "_refine.pdbx_overall_ESU_R_Free ['0.094']\n",
      "_refine.pdbx_overall_ESU_R_Free ['0.020']\n",
      "_refine.pdbx_overall_ESU_R_Free ['0.094']\n",
      "_refine.pdbx_overall_ESU_R_Free ['0.119']\n",
      "_refine.pdbx_overall_ESU_R_Free ['0.101']\n",
      "_refine.pdbx_overall_ESU_R_Free ['?']\n",
      "_refine.pdbx_overall_ESU_R_Free ['0.042']\n",
      "_refine.pdbx_overall_ESU_R_Free ['0.0660']\n",
      "_refine.pdbx_overall_ESU_R_Free ['0.043']\n",
      "_refine.pdbx_overall_ESU_R_Free ['0.046']\n",
      "_refine.pdbx_overall_ESU_R_Free ['?']\n",
      "_refine.pdbx_overall_ESU_R_Free ['0.040']\n",
      "_refine.pdbx_overall_ESU_R_Free ['0.056']\n",
      "_refine.pdbx_overall_ESU_R_Free ['0.090']\n",
      "_refine.pdbx_overall_ESU_R_Free ['?']\n",
      "_refine.pdbx_overall_ESU_R_Free ['?']\n",
      "_refine.pdbx_overall_ESU_R_Free ['0.032']\n",
      "_refine.pdbx_overall_ESU_R_Free ['?']\n",
      "_refine.pdbx_overall_ESU_R_Free ['?']\n",
      "_refine.pdbx_overall_ESU_R_Free ['?']\n",
      "_refine.pdbx_overall_ESU_R_Free ['?']\n",
      "_refine.pdbx_overall_ESU_R_Free ['?']\n",
      "_refine.pdbx_overall_ESU_R_Free ['?']\n",
      "_refine.pdbx_overall_ESU_R_Free ['?']\n",
      "_refine.pdbx_overall_ESU_R_Free ['?']\n",
      "_refine.pdbx_overall_ESU_R_Free ['?']\n",
      "_refine.pdbx_overall_ESU_R_Free ['?']\n",
      "_refine.pdbx_overall_ESU_R_Free ['0.048']\n",
      "_refine.pdbx_overall_ESU_R_Free ['0.081']\n",
      "_refine.pdbx_overall_ESU_R_Free ['0.028']\n",
      "_refine.pdbx_overall_ESU_R_Free ['?']\n",
      "_refine.pdbx_overall_ESU_R_Free ['?']\n",
      "_refine.pdbx_overall_ESU_R_Free ['0.101']\n",
      "_refine.pdbx_overall_ESU_R_Free ['0.074']\n",
      "_refine.pdbx_overall_ESU_R_Free ['0.085']\n",
      "_refine.pdbx_overall_ESU_R_Free ['?']\n",
      "_refine.pdbx_overall_ESU_R_Free ['?']\n",
      "_refine.pdbx_overall_ESU_R_Free ['?']\n",
      "_refine.pdbx_overall_ESU_R_Free ['0.1060']\n",
      "_refine.pdbx_overall_ESU_R_Free ['0.1060']\n",
      "_refine.pdbx_overall_ESU_R_Free ['0.1400']\n",
      "_refine.pdbx_overall_ESU_R_Free ['?']\n",
      "_refine.pdbx_overall_ESU_R_Free ['?']\n",
      "_refine.pdbx_overall_ESU_R_Free ['0.089']\n",
      "_refine.pdbx_overall_ESU_R_Free ['0.0070']\n",
      "_refine.pdbx_overall_ESU_R_Free ['?']\n",
      "_refine.pdbx_overall_ESU_R_Free ['?']\n",
      "_refine.pdbx_overall_ESU_R_Free ['0.1180']\n",
      "_refine.pdbx_overall_ESU_R_Free ['?']\n",
      "_refine.pdbx_overall_ESU_R_Free ['?']\n"
     ]
    }
   ],
   "source": [
    "pdb_info = MMCIF2Dict(f\"{folder_name}/6lpj.cif\")\n",
    "\n",
    "for pdb_id in pdb_ids:\n",
    "    pdb_info = MMCIF2Dict(f\"{folder_name}/{pdb_id}.cif\")\n",
    "    for key, value in pdb_info.items():\n",
    "        if \"refine.pdbx_overall_ESU_R_Free\" in key:\n",
    "            print(key, value)"
   ]
  },
  {
   "cell_type": "markdown",
   "metadata": {},
   "source": [
    "To do:\n",
    "\n",
    "1. voor PDB entries:\n",
    "- parse mmcif file, e.g. https://files.rcsb.org/view/4XNV.cif\n",
    "- extract \"Blow_DPI\" / free blow DPI?\n",
    "\n",
    "-> vaak geen Blow DPI in de .cif te vinden. Wel ESU R_Free.\n",
    "-> zelf coordinate error berekenen?\n",
    "\n",
    "2. nadenken over datum\n",
    "\n",
    "\n",
    "3. nadenken over strengheid van resolutiefilter (2.0 - 3.5 Ä)\n",
    "-> bij cutoff < 2.0 Ä: 64 matches\n",
    "\n",
    "4. automatisch export naar xlsx / csv"
   ]
  }
 ],
 "metadata": {
  "kernelspec": {
   "display_name": "fepenv",
   "language": "python",
   "name": "python3"
  },
  "language_info": {
   "codemirror_mode": {
    "name": "ipython",
    "version": 3
   },
   "file_extension": ".py",
   "mimetype": "text/x-python",
   "name": "python",
   "nbconvert_exporter": "python",
   "pygments_lexer": "ipython3",
   "version": "3.12.7"
  }
 },
 "nbformat": 4,
 "nbformat_minor": 2
}
