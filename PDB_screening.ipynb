{
 "cells": [
  {
   "cell_type": "code",
   "execution_count": 2,
   "metadata": {},
   "outputs": [],
   "source": [
    "# conda environment: \"fepenv\", python version=3.12.7\n",
    "\n",
    "import pandas as pd\n",
    "import sys\n",
    "import biotite.database.rcsb as rcsb"
   ]
  },
  {
   "cell_type": "code",
   "execution_count": 83,
   "metadata": {},
   "outputs": [],
   "source": [
    "# Methodology\n",
    "experimental_method = \"X-ray\"\n",
    "max_resolution = 2.0\n",
    "\n",
    "# Protein characteristics\n",
    "membrane_annotations = ['PDBTM', 'MemProtMD'] # 'PDBTM', 'OPM', 'MemProtMD', 'mpstruc'\n",
    "organism = \"Homo sapiens\"\n",
    "\n",
    "# Ligand characteristics\n",
    "min_ligand_molecular_weight = 100\n",
    "ligand_binding_type = \"HAS_NO_COVALENT_LINKAGE\""
   ]
  },
  {
   "cell_type": "code",
   "execution_count": null,
   "metadata": {},
   "outputs": [],
   "source": [
    "query_by_experimental_method = rcsb.FieldQuery(\n",
    "    \"rcsb_entry_info.experimental_method\",\n",
    "    exact_match=experimental_method\n",
    ")\n",
    "\n",
    "query_by_resolution = rcsb.FieldQuery(\n",
    "    \"rcsb_entry_info.resolution_combined\",\n",
    "    less_or_equal=max_resolution\n",
    ")\n",
    "\n",
    "query_by_ligand_mw = rcsb.FieldQuery( #broken?\n",
    "    \"chem_comp.formula_weight\",\n",
    "    molecular_definition=True,\n",
    "    greater=min_ligand_molecular_weight\n",
    ")\n",
    "\n",
    "query_by_membrane_annotation = rcsb.FieldQuery(\n",
    "    \"rcsb_polymer_entity_annotation.type\",\n",
    "    is_in=membrane_annotations\n",
    ")\n",
    "\n",
    "query_by_organism = rcsb.FieldQuery(\n",
    "    \"rcsb_entity_source_organism.scientific_name\",\n",
    "    exact_match=organism\n",
    ")\n",
    "\n",
    "query_by_ligand_binding_type = rcsb.FieldQuery(\n",
    "    \"rcsb_nonpolymer_instance_annotation.type\",\n",
    "    exact_match=ligand_binding_type\n",
    ")\n",
    "\n"
   ]
  },
  {
   "cell_type": "code",
   "execution_count": null,
   "metadata": {},
   "outputs": [
    {
     "name": "stdout",
     "output_type": "stream",
     "text": [
      "64 matches:\n",
      "['1OJA', '2BK5', '2C67', '2UUI', '2V60', '2V61', '2XCG', '2XFN', '2XFP', '3D9S', '3GD8', '3PCV', '3PO7', '4A79', '4A7A', '4AL0', '4AL1', '4EIY', '4N6H', '4WOL', '4YK5', '4YL0', '4YL1', '4YL3', '4ZW9', '5BQG', '5BQH', '5BQI', '5IU4', '5IU7', '5K0I', '5K2C', '5K2D', '5MZJ', '5NM2', '5NM4', '5OLG', '5OLV', '5OLZ', '5OM4', '5SYT', '5T36', '5T37', '5TL9', '5WIU', '5WQC', '6FVZ', '6FW0', '6FWC', '6GT3', '6I6H', '6IGK', '6LPJ', '6LPK', '6LPL', '6PS7', '6QZI', '6RKP', '6VL4', '6WQA', '6WVH', '6YT2', '6ZDR', '8PYV']\n"
     ]
    }
   ],
   "source": [
    "query = rcsb.CompositeQuery(\n",
    "    [\n",
    "        query_by_resolution,\n",
    "        query_by_experimental_method,\n",
    "        query_by_membrane_annotation,\n",
    "        query_by_organism,\n",
    "        query_by_ligand_mw,\n",
    "        query_by_ligand_binding_type\n",
    "    ],\n",
    "    \"and\",\n",
    ")\n",
    "\n",
    "pdb_ids = rcsb.search(query)\n",
    "print(f\"{len(pdb_ids)} matches:\")\n",
    "print(pdb_ids)"
   ]
  },
  {
   "cell_type": "code",
   "execution_count": 88,
   "metadata": {},
   "outputs": [
    {
     "data": {
      "text/plain": [
       "False"
      ]
     },
     "execution_count": 88,
     "metadata": {},
     "output_type": "execute_result"
    }
   ],
   "source": [
    "'4XNV' in pdb_ids"
   ]
  },
  {
   "cell_type": "markdown",
   "metadata": {},
   "source": [
    "To do:\n",
    "\n",
    "1. voor PDB entries:\n",
    "- parse mmcif file, e.g. https://files.rcsb.org/view/4XNV.cif\n",
    "- extract \"Blow_DPI\" / free blow DPI?\n",
    "\n",
    "parsing van mmcif files met Bio.PDB \n",
    "https://education.molssi.org/python-scripting-biochemistry/chapters/biopython_mmcif.html\n",
    "https://www.youtube.com/watch?v=dWqvNQuInjA\n",
    "\n",
    "\n",
    "parsing CIF file van web\n",
    "https://stackoverflow.com/questions/57586583/problem-to-parse-a-cif-file-using-mmcif2dict\n",
    "\n",
    "\n",
    "2. extra query op basis van date?\n",
    "3. nadenken over strengheid van resolutiefilter (2.0 - 3.5 Ä)\n",
    "\n"
   ]
  }
 ],
 "metadata": {
  "kernelspec": {
   "display_name": "fepenv",
   "language": "python",
   "name": "python3"
  },
  "language_info": {
   "codemirror_mode": {
    "name": "ipython",
    "version": 3
   },
   "file_extension": ".py",
   "mimetype": "text/x-python",
   "name": "python",
   "nbconvert_exporter": "python",
   "pygments_lexer": "ipython3",
   "version": "3.12.7"
  }
 },
 "nbformat": 4,
 "nbformat_minor": 2
}
